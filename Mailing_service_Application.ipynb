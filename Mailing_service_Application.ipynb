{
  "nbformat": 4,
  "nbformat_minor": 0,
  "metadata": {
    "colab": {
      "name": "Mailing service Application",
      "provenance": [],
      "collapsed_sections": []
    },
    "kernelspec": {
      "name": "python3",
      "display_name": "Python 3"
    }
  },
  "cells": [
    {
      "cell_type": "markdown",
      "metadata": {
        "id": "UYmMpXkNw9I6"
      },
      "source": [
        "### Instructions"
      ]
    },
    {
      "cell_type": "markdown",
      "metadata": {
        "id": "64Zy490qzVsZ"
      },
      "source": [
        "#### Goal of the Project\n",
        "\n",
        "This project is designed for you to practice and solve the activities that are based on the concepts covered in the following lessons:\n",
        "\n",
        " 1. Classes and Objects \n",
        "\n",
        " 2. Inheritance"
      ]
    },
    {
      "cell_type": "markdown",
      "metadata": {
        "id": "2i36Yv3-MPY5"
      },
      "source": [
        "### Problem Statement \n",
        "\n",
        "\n",
        "From the stone age till the electronic age we have used numerous ways of distance communication, one of them being **Mail Service**.\n",
        "\n",
        "Let's say you are building a Mailing Service Application which will allow you to send mails. These mails can be emails, physical mails, fax, etc.\n",
        "\n",
        "Every mail will have four things in common: \n",
        "1. Sender’s Address\n",
        "2. Receiver’s Address\n",
        "3. Subject\n",
        "4. Message \n",
        "\n",
        "Every type of mail possess some unique attributes like:\n",
        "* In a courier, you need the weight of the parcel.\n",
        "* In an email, you may have an Attachment.\n",
        "\n",
        "Let's build this application using Inheritance. "
      ]
    },
    {
      "cell_type": "markdown",
      "metadata": {
        "id": "vYChcL-WMRFV"
      },
      "source": [
        "---"
      ]
    },
    {
      "cell_type": "markdown",
      "metadata": {
        "id": "toeLx5LJpIV-"
      },
      "source": [
        "### List of Activities\n",
        "\n",
        "**Activity 1:** Create a parent class `Mail`.\n",
        "\n",
        "  \n",
        "**Activity 2:** Create an object of the class `Mail`\n",
        "\n",
        "**Activity 3:** Create a child class `Post` which inherits from the parent class `Mail`.\n",
        "\n",
        "**Activity 4:** Create a child class `Email ` which inherits from its parent class `Mail`.\n"
      ]
    },
    {
      "cell_type": "markdown",
      "metadata": {
        "id": "5JRlGIBRqCGl"
      },
      "source": [
        "---"
      ]
    },
    {
      "cell_type": "code",
      "metadata": {
        "id": "6RL71w3ntzcH"
      },
      "source": [
        "#  Create class 'Mail'. Add constructor \n",
        "class Mail:\n",
        "  def __init__(self,sen_add,rec_add,subject,message):\n",
        "    self.sen_add=sen_add\n",
        "    self.rec_add=rec_add\n",
        "    self.subject=subject\n",
        "    self.message=message\n",
        "\n",
        "      \n",
        "  # Create a __repr__ to return the properties of a mail\n",
        "  def __repr__(self):\n",
        "    return (f'To: \\t\\t{self.rec_add}\\nFrom:\\t\\t{self.sen_add}\\nSubject:\\t{self.subject}\\nMessage:\\t{self.message}')\n",
        "\n"
      ],
      "execution_count": 1,
      "outputs": []
    },
    {
      "cell_type": "code",
      "metadata": {
        "id": "cHEBBL8JOymV",
        "colab": {
          "base_uri": "https://localhost:8080/"
        },
        "outputId": "b91609ce-9dff-48bf-dcf7-5c548391b288"
      },
      "source": [
        "# Create an object of 'Mail' class and print its properties\n",
        "demo=Mail('State minister','Prime minister','Health policy','This is regarding Health policy 2020')\n",
        "demo\n",
        "\n",
        "\n"
      ],
      "execution_count": 2,
      "outputs": [
        {
          "output_type": "execute_result",
          "data": {
            "text/plain": [
              "To: \t\tPrime minister\n",
              "From:\t\tState minister\n",
              "Subject:\tHealth policy\n",
              "Message:\tThis is regarding Health policy 2020"
            ]
          },
          "metadata": {},
          "execution_count": 2
        }
      ]
    },
    {
      "cell_type": "code",
      "metadata": {
        "id": "IjwoVwylMHpY",
        "colab": {
          "base_uri": "https://localhost:8080/"
        },
        "outputId": "22d63ab6-0a8d-4a34-b276-03ed06bd6ebe"
      },
      "source": [
        "# Create child class 'Post' of the parent class 'Mail' and create the object of the child class and determine the delivery time\n",
        "class Post(Mail):\n",
        "\n",
        "  def __init__(self,sen_add,rec_add,subject,message,mode_transit):\n",
        "    Mail.__init__(self,sen_add,rec_add,subject,message)\n",
        "    self.mode_transit=mode_transit\n",
        "    self.delivery=None\n",
        "  def cal_delivery(self):\n",
        "    if(self.mode_transit=='Airways'):\n",
        "      self.delivery=\"In 5 Working days\"\n",
        "      return self.delivery\n",
        "    elif(self.mode_transit=='Roadways'):\n",
        "      self.delivery= \"In 15 Working days\"\n",
        "      return self.delivery\n",
        "      \n",
        "    elif(self.mode_transit=='Waterways'):\n",
        "      self.delivery=\"In 10-15 Working days\"\n",
        "      return self.delivery\n",
        "    \n",
        "  # Create a __repr__ to return the properties of a mail\n",
        "  def __repr__(self):\n",
        "    return (f'To: \\t\\t{self.rec_add}\\nFrom:\\t\\t{self.sen_add}\\nSubject:\\t{self.subject}\\nMessage:\\t{self.message}\\nTransit Mode:\\t{self.mode_transit}\\nDelivery Time:\\t{self.cal_delivery()}')\n",
        "\n",
        "demo=Post('State minister','Prime minister','Health policy','This is regarding Health policy 2020.','Roadways')\n",
        "print(demo)\n",
        "\n",
        "print(\"\\n\",\"#\"*50,\"\\n\")\n",
        "demo1=Post('State minister','Prime minister','Health policy','This is regarding Health policy 2020.','Waterways')\n",
        "demo1\n"
      ],
      "execution_count": 5,
      "outputs": [
        {
          "output_type": "stream",
          "name": "stdout",
          "text": [
            "To: \t\tPrime minister\n",
            "From:\t\tState minister\n",
            "Subject:\tHealth policy\n",
            "Message:\tThis is regarding Health policy 2020.\n",
            "Transit Mode:\tRoadways\n",
            "Delivery Time:\tIn 15 Working days\n",
            "\n",
            " ################################################## \n",
            "\n"
          ]
        },
        {
          "output_type": "execute_result",
          "data": {
            "text/plain": [
              "To: \t\tPrime minister\n",
              "From:\t\tState minister\n",
              "Subject:\tHealth policy\n",
              "Message:\tThis is regarding Health policy 2020.\n",
              "Transit Mode:\tWaterways\n",
              "Delivery Time:\tIn 10-15 Working days"
            ]
          },
          "metadata": {},
          "execution_count": 5
        }
      ]
    },
    {
      "cell_type": "code",
      "metadata": {
        "id": "fhZrarNohg47",
        "colab": {
          "base_uri": "https://localhost:8080/"
        },
        "outputId": "d9ad094e-5cc6-4c86-fe91-692ea9823eae"
      },
      "source": [
        "# Create child class 'Email' of the parent class 'Mail'. Create the object of the child class and update an existing draft.\n",
        "\n",
        "class Email(Mail):\n",
        "  def __init__(self,sen_add,rec_add,subject,message,status):\n",
        "    Mail.__init__(self,sen_add,rec_add,subject,message)\n",
        "    self.status=status\n",
        "  def update_message(self,message):\n",
        "    if(self.status=='Draft'):\n",
        "      self.message=message\n",
        "    elif(self.status=='Sent'):\n",
        "      print('! Message already Sent Update Not possible')\n",
        "\n",
        "    \n",
        "  # Create a __repr__ to return the properties of a mail\n",
        "  def __repr__(self):\n",
        "    return (f'To: \\t\\t{self.rec_add}\\nFrom:\\t\\t{self.sen_add}\\nSubject:\\t{self.subject}\\nMessage:\\t{self.message}\\nStatus:\\t\\t{self.status}')\n",
        "\n",
        "demo=Email('State minister','Prime minister','Health policy','This is regarding Health policy 2020.','Sent')\n",
        "demo.update_message(\"This is regarding Education Policy 2020\")\n",
        "demo"
      ],
      "execution_count": 4,
      "outputs": [
        {
          "output_type": "stream",
          "name": "stdout",
          "text": [
            "! Message already Sent Update Not possible\n"
          ]
        },
        {
          "output_type": "execute_result",
          "data": {
            "text/plain": [
              "To: \t\tPrime minister\n",
              "From:\t\tState minister\n",
              "Subject:\tHealth policy\n",
              "Message:\tThis is regarding Health policy 2020.\n",
              "Status:\t\tSent"
            ]
          },
          "metadata": {},
          "execution_count": 4
        }
      ]
    }
  ]
}